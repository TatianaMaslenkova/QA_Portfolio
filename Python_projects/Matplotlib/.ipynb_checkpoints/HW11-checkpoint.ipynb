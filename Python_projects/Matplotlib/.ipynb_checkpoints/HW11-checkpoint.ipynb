{
 "cells": [
  {
   "cell_type": "markdown",
   "id": "220d0429",
   "metadata": {},
   "source": [
    "# Задача\n",
    "**Дана функция f(x) = (sin(x)/2 + cos(x)/2) ** 2 * sin(x)**\n",
    "**Для решения используйте период**\n",
    "\n",
    "*1. Определить корни*\n",
    "\n",
    "*2. Найти интервалы, на которых функция возрастает*\n",
    "\n",
    "*3. Найти интервалы, на которых функция убывает*\n",
    "\n",
    "*4. Построить график (на 1 периоде)*\n",
    "\n",
    "*5. Вычислить вершину*\n",
    "\n",
    "*6. Определить промежутки, на котором f > 0*\n",
    "\n",
    "*7. Определить промежутки, на котором f < 0*"
   ]
  },
  {
   "cell_type": "code",
   "execution_count": 1,
   "id": "2efb752c",
   "metadata": {},
   "outputs": [],
   "source": [
    "from sympy import *"
   ]
  },
  {
   "cell_type": "code",
   "execution_count": 2,
   "id": "15482fc8",
   "metadata": {},
   "outputs": [
    {
     "data": {
      "text/latex": [
       "$\\displaystyle \\frac{\\sin{\\left(x \\right)} \\sin^{2}{\\left(x + \\frac{\\pi}{4} \\right)}}{2}$"
      ],
      "text/plain": [
       "sin(x)*sin(x + pi/4)**2/2"
      ]
     },
     "execution_count": 2,
     "metadata": {},
     "output_type": "execute_result"
    }
   ],
   "source": [
    "x = Symbol('x')\n",
    "function = (sin(x)/2 + cos(x)/2) ** 2 * sin(x)\n",
    "simple = trigsimp(function)\n",
    "simple"
   ]
  },
  {
   "cell_type": "markdown",
   "id": "e93cfaa8",
   "metadata": {},
   "source": [
    "# 1. Определить корни"
   ]
  },
  {
   "cell_type": "code",
   "execution_count": 3,
   "id": "d4b8a64b",
   "metadata": {},
   "outputs": [
    {
     "name": "stdout",
     "output_type": "stream",
     "text": [
      "⎡-π      3⋅π   ⎤\n",
      "⎢───, 0, ───, π⎥\n",
      "⎣ 4       4    ⎦\n",
      "Числовые значения: -0.785398163397448, 0, 2.35619449019234, 3.14159265358979, "
     ]
    }
   ],
   "source": [
    "roots = solve(simple, x)\n",
    "roots.sort()\n",
    "pretty_print(roots)\n",
    "print('Числовые значения', end = ': ')\n",
    "for i in roots:\n",
    "    print(i.evalf(), end = ', ')"
   ]
  },
  {
   "cell_type": "code",
   "execution_count": 4,
   "id": "919a95d5",
   "metadata": {},
   "outputs": [
    {
     "data": {
      "text/latex": [
       "$\\displaystyle \\left\\{2 n \\pi\\; \\middle|\\; n \\in \\mathbb{Z}\\right\\} \\cup \\left\\{2 n \\pi + \\pi\\; \\middle|\\; n \\in \\mathbb{Z}\\right\\} \\cup \\left\\{2 n \\pi + \\frac{3 \\pi}{4}\\; \\middle|\\; n \\in \\mathbb{Z}\\right\\} \\cup \\left\\{2 n \\pi + \\frac{7 \\pi}{4}\\; \\middle|\\; n \\in \\mathbb{Z}\\right\\}$"
      ],
      "text/plain": [
       "Union(ImageSet(Lambda(_n, 2*_n*pi + 3*pi/4), Integers), ImageSet(Lambda(_n, 2*_n*pi + 7*pi/4), Integers), ImageSet(Lambda(_n, 2*_n*pi + pi), Integers), ImageSet(Lambda(_n, 2*_n*pi), Integers))"
      ]
     },
     "execution_count": 4,
     "metadata": {},
     "output_type": "execute_result"
    }
   ],
   "source": [
    "solveset(simple, x)"
   ]
  },
  {
   "cell_type": "markdown",
   "id": "75dc8617",
   "metadata": {},
   "source": [
    "# 2-3. Найти интервалы, на которых функция возрастает/убывает"
   ]
  },
  {
   "cell_type": "code",
   "execution_count": 5,
   "id": "cfdbe6f6",
   "metadata": {},
   "outputs": [
    {
     "data": {
      "text/latex": [
       "$\\displaystyle \\left(- \\sin{\\left(x \\right)} + \\cos{\\left(x \\right)}\\right) \\left(\\frac{\\sin{\\left(x \\right)}}{2} + \\frac{\\cos{\\left(x \\right)}}{2}\\right) \\sin{\\left(x \\right)} + \\left(\\frac{\\sin{\\left(x \\right)}}{2} + \\frac{\\cos{\\left(x \\right)}}{2}\\right)^{2} \\cos{\\left(x \\right)}$"
      ],
      "text/plain": [
       "(-sin(x) + cos(x))*(sin(x)/2 + cos(x)/2)*sin(x) + (sin(x)/2 + cos(x)/2)**2*cos(x)"
      ]
     },
     "execution_count": 5,
     "metadata": {},
     "output_type": "execute_result"
    }
   ],
   "source": [
    "derivative = diff(function)\n",
    "derivative"
   ]
  },
  {
   "cell_type": "markdown",
   "id": "9b3ab203",
   "metadata": {},
   "source": [
    "**Периодичность**"
   ]
  },
  {
   "cell_type": "code",
   "execution_count": 6,
   "id": "ba4ccd4e",
   "metadata": {},
   "outputs": [
    {
     "data": {
      "text/latex": [
       "$\\displaystyle 2 \\pi$"
      ],
      "text/plain": [
       "2*pi"
      ]
     },
     "execution_count": 6,
     "metadata": {},
     "output_type": "execute_result"
    }
   ],
   "source": [
    "periodicity(simple, x)"
   ]
  },
  {
   "cell_type": "code",
   "execution_count": 7,
   "id": "15110fba",
   "metadata": {},
   "outputs": [
    {
     "name": "stdout",
     "output_type": "stream",
     "text": [
      "-2*atan(-3/2 + sqrt(6)*sqrt(5 - sqrt(17))/2 + sqrt(17)/2) \t -2.08\n",
      "-pi/4 \t -0.79\n",
      "2*atan(-sqrt(6)*sqrt(sqrt(17) + 5)/2 + 3/2 + sqrt(17)/2) \t -0.27\n",
      "2*atan(-sqrt(17)/2 + sqrt(6)*sqrt(5 - sqrt(17))/2 + 3/2) \t 1.06\n",
      "3*pi/4 \t 2.36\n",
      "2*atan(3/2 + sqrt(17)/2 + sqrt(6)*sqrt(sqrt(17) + 5)/2) \t 2.87\n"
     ]
    }
   ],
   "source": [
    "diffroots = solve(derivative, x)\n",
    "diffroots.sort()\n",
    "for i in diffroots:\n",
    "    print(i, '\\t', round(i.evalf(),2))"
   ]
  },
  {
   "cell_type": "code",
   "execution_count": 8,
   "id": "db63de0d",
   "metadata": {},
   "outputs": [
    {
     "name": "stdout",
     "output_type": "stream",
     "text": [
      "-pi \t -3.14\n",
      "-2*atan(-3/2 + sqrt(6)*sqrt(5 - sqrt(17))/2 + sqrt(17)/2) \t -2.08\n",
      "-pi/4 \t -0.79\n",
      "2*atan(-sqrt(6)*sqrt(sqrt(17) + 5)/2 + 3/2 + sqrt(17)/2) \t -0.27\n",
      "2*atan(-sqrt(17)/2 + sqrt(6)*sqrt(5 - sqrt(17))/2 + 3/2) \t 1.06\n",
      "3*pi/4 \t 2.36\n",
      "2*atan(3/2 + sqrt(17)/2 + sqrt(6)*sqrt(sqrt(17) + 5)/2) \t 2.87\n",
      "pi \t 3.14\n"
     ]
    }
   ],
   "source": [
    "if diffroots[-1] != pi:\n",
    "    diffroots.append(pi)\n",
    "if diffroots[0] != -pi:\n",
    "    diffroots.insert(0, -pi)\n",
    "diffroots.sort()\n",
    "for i in diffroots:\n",
    "    print(i, '\\t', round(i.evalf(),2))"
   ]
  },
  {
   "cell_type": "code",
   "execution_count": 9,
   "id": "ef017545",
   "metadata": {},
   "outputs": [
    {
     "name": "stdout",
     "output_type": "stream",
     "text": [
      "Функция убывает в интервале: -3.14, -2.08\n",
      "Функция возрастает в интервале: -2.08, -0.79\n",
      "Функция убывает в интервале: -0.79, -0.27\n",
      "Функция возрастает в интервале: -0.27, 1.06\n",
      "Функция убывает в интервале: 1.06, 2.36\n",
      "Функция возрастает в интервале: 2.36, 2.87\n",
      "Функция убывает в интервале: 2.87, 3.14\n"
     ]
    }
   ],
   "source": [
    "for i in range(len(diffroots) - 1):\n",
    "    intervals = derivative.subs(x, (diffroots[i+1] + diffroots[i])/2)\n",
    "    if intervals > 0:\n",
    "        print(f'Функция возрастает в интервале: {round(diffroots[i].evalf(),2)}, {round(diffroots[i+1].evalf(), 2)}')\n",
    "    else:\n",
    "        print(f'Функция убывает в интервале: {round(diffroots[i].evalf(),2)}, {round(diffroots[i+1].evalf(), 2)}')"
   ]
  },
  {
   "cell_type": "markdown",
   "id": "343489f2",
   "metadata": {},
   "source": [
    "# 4. Построить график"
   ]
  },
  {
   "cell_type": "code",
   "execution_count": 10,
   "id": "286bcc4a",
   "metadata": {},
   "outputs": [
    {
     "data": {
      "image/png": "[encoded data removed]",
      "text/plain": [
       "<Figure size 640x480 with 1 Axes>"
      ]
     },
     "metadata": {},
     "output_type": "display_data"
    }
   ],
   "source": [
    "graph = plot(simple, derivative, (x, -2*pi, 2*pi), title = \"График функции и производной\")"
   ]
  },
  {
   "cell_type": "markdown",
   "id": "2123e5a0",
   "metadata": {},
   "source": [
    "# 5. Вычислить вершину"
   ]
  },
  {
   "cell_type": "code",
   "execution_count": 11,
   "id": "4cf89050",
   "metadata": {},
   "outputs": [
    {
     "name": "stdout",
     "output_type": "stream",
     "text": [
      "1-я вершина: x = -3.14, f(x) = 0\n",
      "2-я вершина: x = -2.08, f(x) = -0.40\n",
      "3-я вершина: x = -0.79, f(x) = 0\n",
      "4-я вершина: x = -0.27, f(x) = -0.03\n",
      "5-я вершина: x = 1.06, f(x) = 0.40\n",
      "6-я вершина: x = 2.36, f(x) = 0\n",
      "7-я вершина: x = 2.87, f(x) = 0.03\n",
      "8-я вершина: x = 3.14, f(x) = 0\n"
     ]
    }
   ],
   "source": [
    "for i in range(len(diffroots)):\n",
    "    extremum = simple.subs(x, diffroots[i])\n",
    "    print(f'{i+1}-я вершина: x = {round(diffroots[i].evalf(), 2)}, f(x) = {round(extremum, 2)}')"
   ]
  },
  {
   "cell_type": "markdown",
   "id": "1034c4df",
   "metadata": {},
   "source": [
    "# 6. Определить промежутки, на котором f > 0"
   ]
  },
  {
   "cell_type": "code",
   "execution_count": 12,
   "id": "a7e16ebe",
   "metadata": {},
   "outputs": [
    {
     "name": "stdout",
     "output_type": "stream",
     "text": [
      "                    3⋅π\n",
      "x > 0 ∧ x < π ∧ x ≠ ───\n",
      "                     4 \n"
     ]
    }
   ],
   "source": [
    "pprint(solve(simple > 0, x), use_unicode = True)"
   ]
  },
  {
   "cell_type": "markdown",
   "id": "7664ab2a",
   "metadata": {},
   "source": [
    "# 7. Определить промежутки, на котором f < 0"
   ]
  },
  {
   "cell_type": "code",
   "execution_count": 13,
   "id": "2f134ace",
   "metadata": {},
   "outputs": [
    {
     "name": "stdout",
     "output_type": "stream",
     "text": [
      "                      7⋅π\n",
      "x > π ∧ x < 2⋅π ∧ x ≠ ───\n",
      "                       4 \n"
     ]
    }
   ],
   "source": [
    "pprint(solve(simple < 0, x), use_unicode = True)"
   ]
  }
 ],
 "metadata": {
  "kernelspec": {
   "display_name": "Python 3 (ipykernel)",
   "language": "python",
   "name": "python3"
  },
  "language_info": {
   "codemirror_mode": {
    "name": "ipython",
    "version": 3
   },
   "file_extension": ".py",
   "mimetype": "text/x-python",
   "name": "python",
   "nbconvert_exporter": "python",
   "pygments_lexer": "ipython3",
   "version": "3.9.13"
  }
 },
 "nbformat": 4,
 "nbformat_minor": 5
}
